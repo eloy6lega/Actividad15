{
 "cells": [
  {
   "cell_type": "markdown",
   "id": "83429f3d",
   "metadata": {},
   "source": [
    "# Anaconda y librerías"
   ]
  },
  {
   "cell_type": "markdown",
   "id": "ea96d67e",
   "metadata": {},
   "source": [
    "# # pandas"
   ]
  },
  {
   "cell_type": "code",
   "execution_count": 2,
   "id": "06e8cc98",
   "metadata": {},
   "outputs": [
    {
     "data": {
      "text/html": [
       "<div>\n",
       "<style scoped>\n",
       "    .dataframe tbody tr th:only-of-type {\n",
       "        vertical-align: middle;\n",
       "    }\n",
       "\n",
       "    .dataframe tbody tr th {\n",
       "        vertical-align: top;\n",
       "    }\n",
       "\n",
       "    .dataframe thead th {\n",
       "        text-align: right;\n",
       "    }\n",
       "</style>\n",
       "<table border=\"1\" class=\"dataframe\">\n",
       "  <thead>\n",
       "    <tr style=\"text-align: right;\">\n",
       "      <th></th>\n",
       "      <th>ID_EQUIPO</th>\n",
       "      <th>ID_TIPO_EQUIPO</th>\n",
       "      <th>UBICACION</th>\n",
       "      <th>FECHA_INSTALACION</th>\n",
       "      <th>FECHA_CONSULTA</th>\n",
       "    </tr>\n",
       "  </thead>\n",
       "  <tbody>\n",
       "    <tr>\n",
       "      <th>0</th>\n",
       "      <td>2020018163</td>\n",
       "      <td>RMDT</td>\n",
       "      <td>362</td>\n",
       "      <td>14/07/22</td>\n",
       "      <td>08/11/22</td>\n",
       "    </tr>\n",
       "    <tr>\n",
       "      <th>1</th>\n",
       "      <td>2020018185</td>\n",
       "      <td>RMDT</td>\n",
       "      <td>351</td>\n",
       "      <td>20/06/22</td>\n",
       "      <td>08/11/22</td>\n",
       "    </tr>\n",
       "    <tr>\n",
       "      <th>2</th>\n",
       "      <td>2020018194</td>\n",
       "      <td>RMDT</td>\n",
       "      <td>356</td>\n",
       "      <td>20/06/22</td>\n",
       "      <td>08/11/22</td>\n",
       "    </tr>\n",
       "    <tr>\n",
       "      <th>3</th>\n",
       "      <td>2020018197</td>\n",
       "      <td>RMDT</td>\n",
       "      <td>326</td>\n",
       "      <td>20/06/22</td>\n",
       "      <td>08/11/22</td>\n",
       "    </tr>\n",
       "    <tr>\n",
       "      <th>4</th>\n",
       "      <td>2020018217</td>\n",
       "      <td>RMDT</td>\n",
       "      <td>340</td>\n",
       "      <td>20/06/22</td>\n",
       "      <td>08/11/22</td>\n",
       "    </tr>\n",
       "  </tbody>\n",
       "</table>\n",
       "</div>"
      ],
      "text/plain": [
       "    ID_EQUIPO ID_TIPO_EQUIPO UBICACION FECHA_INSTALACION FECHA_CONSULTA\n",
       "0  2020018163           RMDT       362          14/07/22       08/11/22\n",
       "1  2020018185           RMDT       351          20/06/22       08/11/22\n",
       "2  2020018194           RMDT       356          20/06/22       08/11/22\n",
       "3  2020018197           RMDT       326          20/06/22       08/11/22\n",
       "4  2020018217           RMDT       340          20/06/22       08/11/22"
      ]
     },
     "execution_count": 2,
     "metadata": {},
     "output_type": "execute_result"
    }
   ],
   "source": [
    "import pandas as pd\n",
    "titanic=pd.read_csv(\"datos.csv\")\n",
    "titanic.head()"
   ]
  },
  {
   "cell_type": "markdown",
   "id": "29e2607e",
   "metadata": {},
   "source": [
    "# # NumPy"
   ]
  },
  {
   "cell_type": "markdown",
   "id": "a018a098",
   "metadata": {},
   "source": [
    "ahora prueba un ejemplo utilizando NumPy"
   ]
  },
  {
   "cell_type": "code",
   "execution_count": 7,
   "id": "8c7aa398",
   "metadata": {},
   "outputs": [
    {
     "data": {
      "text/html": [
       "<div>\n",
       "<style scoped>\n",
       "    .dataframe tbody tr th:only-of-type {\n",
       "        vertical-align: middle;\n",
       "    }\n",
       "\n",
       "    .dataframe tbody tr th {\n",
       "        vertical-align: top;\n",
       "    }\n",
       "\n",
       "    .dataframe thead th {\n",
       "        text-align: right;\n",
       "    }\n",
       "</style>\n",
       "<table border=\"1\" class=\"dataframe\">\n",
       "  <thead>\n",
       "    <tr style=\"text-align: right;\">\n",
       "      <th></th>\n",
       "      <th>0</th>\n",
       "      <th>1</th>\n",
       "      <th>2</th>\n",
       "    </tr>\n",
       "  </thead>\n",
       "  <tbody>\n",
       "    <tr>\n",
       "      <th>0</th>\n",
       "      <td>1</td>\n",
       "      <td>3</td>\n",
       "      <td>5</td>\n",
       "    </tr>\n",
       "    <tr>\n",
       "      <th>1</th>\n",
       "      <td>2</td>\n",
       "      <td>4</td>\n",
       "      <td>6</td>\n",
       "    </tr>\n",
       "    <tr>\n",
       "      <th>2</th>\n",
       "      <td>10</td>\n",
       "      <td>11</td>\n",
       "      <td>12</td>\n",
       "    </tr>\n",
       "  </tbody>\n",
       "</table>\n",
       "</div>"
      ],
      "text/plain": [
       "    0   1   2\n",
       "0   1   3   5\n",
       "1   2   4   6\n",
       "2  10  11  12"
      ]
     },
     "execution_count": 7,
     "metadata": {},
     "output_type": "execute_result"
    }
   ],
   "source": [
    "import numpy as np\n",
    "import pandas as pd\n",
    "unidades_datos=np.array([[1,3,5],[2,4,6],[10,11,12]])\n",
    "unidades_datos\n",
    "unidades=pd.DataFrame(unidades_datos) #DataFrame es un método de pandas\n",
    "unidades"
   ]
  },
  {
   "cell_type": "markdown",
   "id": "3e887e76",
   "metadata": {},
   "source": [
    "# Matplotlib"
   ]
  },
  {
   "cell_type": "markdown",
   "id": "8efdb44f",
   "metadata": {},
   "source": [
    "Intenta mostrar en un gráfico unos datos"
   ]
  },
  {
   "cell_type": "code",
   "execution_count": null,
   "id": "57d86773",
   "metadata": {},
   "outputs": [],
   "source": []
  },
  {
   "cell_type": "markdown",
   "id": "19143e49",
   "metadata": {},
   "source": [
    "# técnica WebScraping- busca una librería"
   ]
  },
  {
   "cell_type": "markdown",
   "id": "56b9498c",
   "metadata": {},
   "source": [
    "Bichea una web y extrae info \"comprometida\""
   ]
  },
  {
   "cell_type": "code",
   "execution_count": null,
   "id": "6fdf8d86",
   "metadata": {},
   "outputs": [],
   "source": []
  },
  {
   "cell_type": "markdown",
   "id": "a6e7ff47",
   "metadata": {},
   "source": [
    "# Reto"
   ]
  },
  {
   "cell_type": "markdown",
   "id": "30fbd0b9",
   "metadata": {},
   "source": [
    "Te piden una frase y tu muestras las palabras ordenadas alfabética en mayúsculas. Gana quien lo haga en menos líneas."
   ]
  },
  {
   "cell_type": "code",
   "execution_count": 13,
   "id": "b5904bf1",
   "metadata": {},
   "outputs": [
    {
     "name": "stdout",
     "output_type": "stream",
     "text": [
      "dime una fraseahora veamos si funciona\n"
     ]
    },
    {
     "data": {
      "text/plain": [
       "['AHORA', 'FUNCIONA', 'SI', 'VEAMOS']"
      ]
     },
     "execution_count": 13,
     "metadata": {},
     "output_type": "execute_result"
    }
   ],
   "source": [
    "frase=input('dime una frase')\n",
    "#split, upper, sort....todo a la vez y lo muestras\n",
    "sorted(frase.upper().split(sep=' '))"
   ]
  },
  {
   "cell_type": "code",
   "execution_count": null,
   "id": "740e16e1",
   "metadata": {},
   "outputs": [],
   "source": []
  }
 ],
 "metadata": {
  "kernelspec": {
   "display_name": "Python 3 (ipykernel)",
   "language": "python",
   "name": "python3"
  },
  "language_info": {
   "codemirror_mode": {
    "name": "ipython",
    "version": 3
   },
   "file_extension": ".py",
   "mimetype": "text/x-python",
   "name": "python",
   "nbconvert_exporter": "python",
   "pygments_lexer": "ipython3",
   "version": "3.9.13"
  }
 },
 "nbformat": 4,
 "nbformat_minor": 5
}
